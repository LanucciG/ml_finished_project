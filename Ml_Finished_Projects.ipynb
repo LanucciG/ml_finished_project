{
  "nbformat": 4,
  "nbformat_minor": 0,
  "metadata": {
    "colab": {
      "provenance": [],
      "include_colab_link": true
    },
    "kernelspec": {
      "name": "python3",
      "display_name": "Python 3"
    },
    "language_info": {
      "name": "python"
    }
  },
  "cells": [
    {
      "cell_type": "markdown",
      "metadata": {
        "id": "view-in-github",
        "colab_type": "text"
      },
      "source": [
        "<a href=\"https://colab.research.google.com/github/LanucciG/ml_finished_project/blob/main/Ml_Finished_Projects.ipynb\" target=\"_parent\"><img src=\"https://colab.research.google.com/assets/colab-badge.svg\" alt=\"Open In Colab\"/></a>"
      ]
    },
    {
      "cell_type": "markdown",
      "source": [
        "# PROJECTS"
      ],
      "metadata": {
        "id": "LZmSRVtQ2luv"
      }
    },
    {
      "cell_type": "markdown",
      "source": [
        "## BIBLIOTECA"
      ],
      "metadata": {
        "id": "rjbekrAm7fgV"
      }
    },
    {
      "cell_type": "code",
      "execution_count": 39,
      "metadata": {
        "id": "6zOxC4ZlzoqA"
      },
      "outputs": [],
      "source": [
        "import pandas as pd\n",
        "from sklearn.svm import LinearSVC\n",
        "from sklearn.neighbors import KNeighborsClassifier\n",
        "from sklearn.model_selection import train_test_split\n",
        "from sklearn.linear_model import LogisticRegression\n",
        "from sklearn.preprocessing import StandardScaler\n",
        "from sklearn.metrics import accuracy_score, classification_report"
      ]
    },
    {
      "cell_type": "code",
      "source": [
        "url = \"https://raw.githubusercontent.com/paolasouza/data_mining_and_big_data/ec70f701a784820fa6ca326c0d51d8740028da03/projects.csv\"\n",
        "dados = pd.read_csv(url)\n",
        "dados.head()"
      ],
      "metadata": {
        "colab": {
          "base_uri": "https://localhost:8080/",
          "height": 206
        },
        "id": "CtfujRfTzscV",
        "outputId": "a34acbcc-8436-494b-bc45-5a4197d2c2b6"
      },
      "execution_count": 40,
      "outputs": [
        {
          "output_type": "execute_result",
          "data": {
            "text/plain": [
              "   unfinished  expected_hours  price\n",
              "0           1              26    192\n",
              "1           1              88   9015\n",
              "2           1              89   2577\n",
              "3           1              42    275\n",
              "4           1              39    170"
            ],
            "text/html": [
              "\n",
              "  <div id=\"df-a32c3e82-7e54-4590-95a0-59e93c944200\" class=\"colab-df-container\">\n",
              "    <div>\n",
              "<style scoped>\n",
              "    .dataframe tbody tr th:only-of-type {\n",
              "        vertical-align: middle;\n",
              "    }\n",
              "\n",
              "    .dataframe tbody tr th {\n",
              "        vertical-align: top;\n",
              "    }\n",
              "\n",
              "    .dataframe thead th {\n",
              "        text-align: right;\n",
              "    }\n",
              "</style>\n",
              "<table border=\"1\" class=\"dataframe\">\n",
              "  <thead>\n",
              "    <tr style=\"text-align: right;\">\n",
              "      <th></th>\n",
              "      <th>unfinished</th>\n",
              "      <th>expected_hours</th>\n",
              "      <th>price</th>\n",
              "    </tr>\n",
              "  </thead>\n",
              "  <tbody>\n",
              "    <tr>\n",
              "      <th>0</th>\n",
              "      <td>1</td>\n",
              "      <td>26</td>\n",
              "      <td>192</td>\n",
              "    </tr>\n",
              "    <tr>\n",
              "      <th>1</th>\n",
              "      <td>1</td>\n",
              "      <td>88</td>\n",
              "      <td>9015</td>\n",
              "    </tr>\n",
              "    <tr>\n",
              "      <th>2</th>\n",
              "      <td>1</td>\n",
              "      <td>89</td>\n",
              "      <td>2577</td>\n",
              "    </tr>\n",
              "    <tr>\n",
              "      <th>3</th>\n",
              "      <td>1</td>\n",
              "      <td>42</td>\n",
              "      <td>275</td>\n",
              "    </tr>\n",
              "    <tr>\n",
              "      <th>4</th>\n",
              "      <td>1</td>\n",
              "      <td>39</td>\n",
              "      <td>170</td>\n",
              "    </tr>\n",
              "  </tbody>\n",
              "</table>\n",
              "</div>\n",
              "    <div class=\"colab-df-buttons\">\n",
              "\n",
              "  <div class=\"colab-df-container\">\n",
              "    <button class=\"colab-df-convert\" onclick=\"convertToInteractive('df-a32c3e82-7e54-4590-95a0-59e93c944200')\"\n",
              "            title=\"Convert this dataframe to an interactive table.\"\n",
              "            style=\"display:none;\">\n",
              "\n",
              "  <svg xmlns=\"http://www.w3.org/2000/svg\" height=\"24px\" viewBox=\"0 -960 960 960\">\n",
              "    <path d=\"M120-120v-720h720v720H120Zm60-500h600v-160H180v160Zm220 220h160v-160H400v160Zm0 220h160v-160H400v160ZM180-400h160v-160H180v160Zm440 0h160v-160H620v160ZM180-180h160v-160H180v160Zm440 0h160v-160H620v160Z\"/>\n",
              "  </svg>\n",
              "    </button>\n",
              "\n",
              "  <style>\n",
              "    .colab-df-container {\n",
              "      display:flex;\n",
              "      gap: 12px;\n",
              "    }\n",
              "\n",
              "    .colab-df-convert {\n",
              "      background-color: #E8F0FE;\n",
              "      border: none;\n",
              "      border-radius: 50%;\n",
              "      cursor: pointer;\n",
              "      display: none;\n",
              "      fill: #1967D2;\n",
              "      height: 32px;\n",
              "      padding: 0 0 0 0;\n",
              "      width: 32px;\n",
              "    }\n",
              "\n",
              "    .colab-df-convert:hover {\n",
              "      background-color: #E2EBFA;\n",
              "      box-shadow: 0px 1px 2px rgba(60, 64, 67, 0.3), 0px 1px 3px 1px rgba(60, 64, 67, 0.15);\n",
              "      fill: #174EA6;\n",
              "    }\n",
              "\n",
              "    .colab-df-buttons div {\n",
              "      margin-bottom: 4px;\n",
              "    }\n",
              "\n",
              "    [theme=dark] .colab-df-convert {\n",
              "      background-color: #3B4455;\n",
              "      fill: #D2E3FC;\n",
              "    }\n",
              "\n",
              "    [theme=dark] .colab-df-convert:hover {\n",
              "      background-color: #434B5C;\n",
              "      box-shadow: 0px 1px 3px 1px rgba(0, 0, 0, 0.15);\n",
              "      filter: drop-shadow(0px 1px 2px rgba(0, 0, 0, 0.3));\n",
              "      fill: #FFFFFF;\n",
              "    }\n",
              "  </style>\n",
              "\n",
              "    <script>\n",
              "      const buttonEl =\n",
              "        document.querySelector('#df-a32c3e82-7e54-4590-95a0-59e93c944200 button.colab-df-convert');\n",
              "      buttonEl.style.display =\n",
              "        google.colab.kernel.accessAllowed ? 'block' : 'none';\n",
              "\n",
              "      async function convertToInteractive(key) {\n",
              "        const element = document.querySelector('#df-a32c3e82-7e54-4590-95a0-59e93c944200');\n",
              "        const dataTable =\n",
              "          await google.colab.kernel.invokeFunction('convertToInteractive',\n",
              "                                                    [key], {});\n",
              "        if (!dataTable) return;\n",
              "\n",
              "        const docLinkHtml = 'Like what you see? Visit the ' +\n",
              "          '<a target=\"_blank\" href=https://colab.research.google.com/notebooks/data_table.ipynb>data table notebook</a>'\n",
              "          + ' to learn more about interactive tables.';\n",
              "        element.innerHTML = '';\n",
              "        dataTable['output_type'] = 'display_data';\n",
              "        await google.colab.output.renderOutput(dataTable, element);\n",
              "        const docLink = document.createElement('div');\n",
              "        docLink.innerHTML = docLinkHtml;\n",
              "        element.appendChild(docLink);\n",
              "      }\n",
              "    </script>\n",
              "  </div>\n",
              "\n",
              "\n",
              "<div id=\"df-1e1f2222-7155-40b9-b023-73e70242665c\">\n",
              "  <button class=\"colab-df-quickchart\" onclick=\"quickchart('df-1e1f2222-7155-40b9-b023-73e70242665c')\"\n",
              "            title=\"Suggest charts\"\n",
              "            style=\"display:none;\">\n",
              "\n",
              "<svg xmlns=\"http://www.w3.org/2000/svg\" height=\"24px\"viewBox=\"0 0 24 24\"\n",
              "     width=\"24px\">\n",
              "    <g>\n",
              "        <path d=\"M19 3H5c-1.1 0-2 .9-2 2v14c0 1.1.9 2 2 2h14c1.1 0 2-.9 2-2V5c0-1.1-.9-2-2-2zM9 17H7v-7h2v7zm4 0h-2V7h2v10zm4 0h-2v-4h2v4z\"/>\n",
              "    </g>\n",
              "</svg>\n",
              "  </button>\n",
              "\n",
              "<style>\n",
              "  .colab-df-quickchart {\n",
              "      --bg-color: #E8F0FE;\n",
              "      --fill-color: #1967D2;\n",
              "      --hover-bg-color: #E2EBFA;\n",
              "      --hover-fill-color: #174EA6;\n",
              "      --disabled-fill-color: #AAA;\n",
              "      --disabled-bg-color: #DDD;\n",
              "  }\n",
              "\n",
              "  [theme=dark] .colab-df-quickchart {\n",
              "      --bg-color: #3B4455;\n",
              "      --fill-color: #D2E3FC;\n",
              "      --hover-bg-color: #434B5C;\n",
              "      --hover-fill-color: #FFFFFF;\n",
              "      --disabled-bg-color: #3B4455;\n",
              "      --disabled-fill-color: #666;\n",
              "  }\n",
              "\n",
              "  .colab-df-quickchart {\n",
              "    background-color: var(--bg-color);\n",
              "    border: none;\n",
              "    border-radius: 50%;\n",
              "    cursor: pointer;\n",
              "    display: none;\n",
              "    fill: var(--fill-color);\n",
              "    height: 32px;\n",
              "    padding: 0;\n",
              "    width: 32px;\n",
              "  }\n",
              "\n",
              "  .colab-df-quickchart:hover {\n",
              "    background-color: var(--hover-bg-color);\n",
              "    box-shadow: 0 1px 2px rgba(60, 64, 67, 0.3), 0 1px 3px 1px rgba(60, 64, 67, 0.15);\n",
              "    fill: var(--button-hover-fill-color);\n",
              "  }\n",
              "\n",
              "  .colab-df-quickchart-complete:disabled,\n",
              "  .colab-df-quickchart-complete:disabled:hover {\n",
              "    background-color: var(--disabled-bg-color);\n",
              "    fill: var(--disabled-fill-color);\n",
              "    box-shadow: none;\n",
              "  }\n",
              "\n",
              "  .colab-df-spinner {\n",
              "    border: 2px solid var(--fill-color);\n",
              "    border-color: transparent;\n",
              "    border-bottom-color: var(--fill-color);\n",
              "    animation:\n",
              "      spin 1s steps(1) infinite;\n",
              "  }\n",
              "\n",
              "  @keyframes spin {\n",
              "    0% {\n",
              "      border-color: transparent;\n",
              "      border-bottom-color: var(--fill-color);\n",
              "      border-left-color: var(--fill-color);\n",
              "    }\n",
              "    20% {\n",
              "      border-color: transparent;\n",
              "      border-left-color: var(--fill-color);\n",
              "      border-top-color: var(--fill-color);\n",
              "    }\n",
              "    30% {\n",
              "      border-color: transparent;\n",
              "      border-left-color: var(--fill-color);\n",
              "      border-top-color: var(--fill-color);\n",
              "      border-right-color: var(--fill-color);\n",
              "    }\n",
              "    40% {\n",
              "      border-color: transparent;\n",
              "      border-right-color: var(--fill-color);\n",
              "      border-top-color: var(--fill-color);\n",
              "    }\n",
              "    60% {\n",
              "      border-color: transparent;\n",
              "      border-right-color: var(--fill-color);\n",
              "    }\n",
              "    80% {\n",
              "      border-color: transparent;\n",
              "      border-right-color: var(--fill-color);\n",
              "      border-bottom-color: var(--fill-color);\n",
              "    }\n",
              "    90% {\n",
              "      border-color: transparent;\n",
              "      border-bottom-color: var(--fill-color);\n",
              "    }\n",
              "  }\n",
              "</style>\n",
              "\n",
              "  <script>\n",
              "    async function quickchart(key) {\n",
              "      const quickchartButtonEl =\n",
              "        document.querySelector('#' + key + ' button');\n",
              "      quickchartButtonEl.disabled = true;  // To prevent multiple clicks.\n",
              "      quickchartButtonEl.classList.add('colab-df-spinner');\n",
              "      try {\n",
              "        const charts = await google.colab.kernel.invokeFunction(\n",
              "            'suggestCharts', [key], {});\n",
              "      } catch (error) {\n",
              "        console.error('Error during call to suggestCharts:', error);\n",
              "      }\n",
              "      quickchartButtonEl.classList.remove('colab-df-spinner');\n",
              "      quickchartButtonEl.classList.add('colab-df-quickchart-complete');\n",
              "    }\n",
              "    (() => {\n",
              "      let quickchartButtonEl =\n",
              "        document.querySelector('#df-1e1f2222-7155-40b9-b023-73e70242665c button');\n",
              "      quickchartButtonEl.style.display =\n",
              "        google.colab.kernel.accessAllowed ? 'block' : 'none';\n",
              "    })();\n",
              "  </script>\n",
              "</div>\n",
              "\n",
              "    </div>\n",
              "  </div>\n"
            ],
            "application/vnd.google.colaboratory.intrinsic+json": {
              "type": "dataframe",
              "variable_name": "dados",
              "summary": "{\n  \"name\": \"dados\",\n  \"rows\": 2157,\n  \"fields\": [\n    {\n      \"column\": \"unfinished\",\n      \"properties\": {\n        \"dtype\": \"number\",\n        \"std\": 0,\n        \"min\": 0,\n        \"max\": 1,\n        \"num_unique_values\": 2,\n        \"samples\": [\n          0,\n          1\n        ],\n        \"semantic_type\": \"\",\n        \"description\": \"\"\n      }\n    },\n    {\n      \"column\": \"expected_hours\",\n      \"properties\": {\n        \"dtype\": \"number\",\n        \"std\": 28,\n        \"min\": 1,\n        \"max\": 100,\n        \"num_unique_values\": 100,\n        \"samples\": [\n          27,\n          65\n        ],\n        \"semantic_type\": \"\",\n        \"description\": \"\"\n      }\n    },\n    {\n      \"column\": \"price\",\n      \"properties\": {\n        \"dtype\": \"number\",\n        \"std\": 5079,\n        \"min\": 100,\n        \"max\": 30223,\n        \"num_unique_values\": 1419,\n        \"samples\": [\n          313,\n          1170\n        ],\n        \"semantic_type\": \"\",\n        \"description\": \"\"\n      }\n    }\n  ]\n}"
            }
          },
          "metadata": {},
          "execution_count": 40
        }
      ]
    },
    {
      "cell_type": "code",
      "source": [
        "# Criar o DataFrame com os dados fornecidos\n",
        "dados = pd.DataFrame({\n",
        "    'unfinished': [1, 1, 0, 0, 1, 0, 1, 0, 0, 1],  # Adicionando exemplos para ambas as classes\n",
        "    'expected_hours': [26, 88, 89, 42, 39, 50, 20, 60, 70, 80],\n",
        "    'price': [192, 9015, 2577, 275, 170, 500, 300, 400, 600, 700]\n",
        "})\n",
        "\n",
        "# Exibir os dados para verificar\n",
        "print(dados)"
      ],
      "metadata": {
        "colab": {
          "base_uri": "https://localhost:8080/"
        },
        "id": "6Yz_aqzb77Km",
        "outputId": "2b501e4b-d051-4910-a244-f856e03b43cf"
      },
      "execution_count": 41,
      "outputs": [
        {
          "output_type": "stream",
          "name": "stdout",
          "text": [
            "   unfinished  expected_hours  price\n",
            "0           1              26    192\n",
            "1           1              88   9015\n",
            "2           0              89   2577\n",
            "3           0              42    275\n",
            "4           1              39    170\n",
            "5           0              50    500\n",
            "6           1              20    300\n",
            "7           0              60    400\n",
            "8           0              70    600\n",
            "9           1              80    700\n"
          ]
        }
      ]
    },
    {
      "cell_type": "code",
      "source": [
        "mapa = {\n",
        "    \"unfinished\" : \"inacabado\",\n",
        "    \"expected_hours\" : \"horas_esperadas\",\n",
        "    \"price\" : \"preco\"\n",
        "}\n",
        "dados = dados.rename(columns = mapa)"
      ],
      "metadata": {
        "id": "jJYj_MGgzuc7"
      },
      "execution_count": 42,
      "outputs": []
    },
    {
      "cell_type": "code",
      "source": [
        "x = dados[[\"horas_esperadas\",\"inacabado\",\"preco\"]] #features"
      ],
      "metadata": {
        "id": "icUk_GDCzwpz"
      },
      "execution_count": 43,
      "outputs": []
    },
    {
      "cell_type": "code",
      "source": [
        "y = dados[\"inacabado\"] # classes\n",
        "y.head()"
      ],
      "metadata": {
        "colab": {
          "base_uri": "https://localhost:8080/"
        },
        "id": "MotQz7cXzzyz",
        "outputId": "f2b2ee48-06be-486b-aaa9-78343501b4b4"
      },
      "execution_count": 44,
      "outputs": [
        {
          "output_type": "execute_result",
          "data": {
            "text/plain": [
              "0    1\n",
              "1    1\n",
              "2    0\n",
              "3    0\n",
              "4    1\n",
              "Name: inacabado, dtype: int64"
            ]
          },
          "metadata": {},
          "execution_count": 44
        }
      ]
    },
    {
      "cell_type": "code",
      "source": [
        "dados.shape"
      ],
      "metadata": {
        "colab": {
          "base_uri": "https://localhost:8080/"
        },
        "id": "lqqbTEUdz1uU",
        "outputId": "aa844149-7a6e-4d1f-83e9-272570c7b162"
      },
      "execution_count": 45,
      "outputs": [
        {
          "output_type": "execute_result",
          "data": {
            "text/plain": [
              "(10, 3)"
            ]
          },
          "metadata": {},
          "execution_count": 45
        }
      ]
    },
    {
      "cell_type": "markdown",
      "source": [
        "## CLASSIFICAÇÃO BINÁRIA"
      ],
      "metadata": {
        "id": "JTHsNjKN0CZk"
      }
    },
    {
      "cell_type": "markdown",
      "source": [
        "- CLASSES (Y) -> BOUGHT (1/0) -> CLASSIFICAÇÃO BINÁRIA\n",
        "\n",
        "- FREATURE NÃO DEFINE SE CLASSIFICAÇÃO É BINÁRIA"
      ],
      "metadata": {
        "id": "Hx9xggCt0GI8"
      }
    },
    {
      "cell_type": "code",
      "source": [
        "x = dados[[\"horas_esperadas\",\"inacabado\",\"preco\"]] #features\n",
        "y = dados[\"inacabado\"] # classes"
      ],
      "metadata": {
        "id": "Xwunaoqm0Dt7"
      },
      "execution_count": 46,
      "outputs": []
    },
    {
      "cell_type": "code",
      "source": [
        "from sklearn.svm import LinearSVC\n",
        "from sklearn.neighbors import KNeighborsClassifier\n",
        "from sklearn.metrics import accuracy_score\n",
        "\n",
        "treino_x = x[:75]\n",
        "teste_x = x[75:]\n",
        "\n",
        "treino_y = y[:75]\n",
        "teste_y = y[75:]\n",
        "\n",
        "if len(x) == 0 or len(y) == 0:\n",
        "    raise ValueError(\"Input data x and y cannot be empty.\")\n",
        "\n",
        "treino_x, teste_x, treino_y, teste_y = train_test_split(x, y, test_size=0.25, random_state=42)\n",
        "\n",
        "if len(teste_x) == 0:\n",
        "    raise ValueError(\"Test set is empty. Please ensure the test size is appropriate.\")\n",
        "\n",
        "scaler = StandardScaler()\n",
        "treino_x = scaler.fit_transform(treino_x)\n",
        "teste_x = scaler.transform(teste_x)\n",
        "\n",
        "print(\"Treinamento com %d elementos e testaremos com %d elementos\" % (len(treino_x), len(teste_x)))\n",
        "modelo = LinearSVC() # cria um modelo\n",
        "modelo.fit(treino_x, treino_y) #treina]\n",
        "\n",
        "previsoes = modelo.predict(teste_x) # teste\n",
        "acuracia = accuracy_score(teste_y, previsoes) * 100 # compara vetores\n",
        "\n",
        "acuracia_model_score = modelo.score(teste_x,teste_y) * 100 # roda teste\n",
        "\n",
        "print(\"A acurácia foi %.2f%%\" % acuracia)\n",
        "print(\"A acurácia foi %.2f%%\" % acuracia_model_score)"
      ],
      "metadata": {
        "colab": {
          "base_uri": "https://localhost:8080/"
        },
        "id": "75W1Gfnp0I1M",
        "outputId": "194c8eac-9efc-4153-a912-ba20c4aba92f"
      },
      "execution_count": 47,
      "outputs": [
        {
          "output_type": "stream",
          "name": "stdout",
          "text": [
            "Treinamento com 7 elementos e testaremos com 3 elementos\n",
            "A acurácia foi 100.00%\n",
            "A acurácia foi 100.00%\n"
          ]
        }
      ]
    },
    {
      "cell_type": "markdown",
      "source": [
        "## SEPARAÇÃO DO TREINO E TESTE"
      ],
      "metadata": {
        "id": "g788SGF-0et1"
      }
    },
    {
      "cell_type": "code",
      "source": [
        "# SEPARAR TREINO E TESTE\n",
        "# Seed vai separar sempre o mesmo conjunto de dados para acurácia fixa\n",
        "seed = 20 # pode ser qualquer valor fixo\n",
        "treino_x, teste_x, treino_y, teste_y = train_test_split(x,y, random_state=seed, test_size = 0.25)\n",
        "print(\"Treinamento com %d elementos e testaremos com %d elementos\" % (len(treino_x), len(teste_x)))"
      ],
      "metadata": {
        "colab": {
          "base_uri": "https://localhost:8080/"
        },
        "id": "uV8P0wX_0LLj",
        "outputId": "b0fb496f-7d6d-4581-d1ef-0117de4a8235"
      },
      "execution_count": 48,
      "outputs": [
        {
          "output_type": "stream",
          "name": "stdout",
          "text": [
            "Treinamento com 7 elementos e testaremos com 3 elementos\n"
          ]
        }
      ]
    },
    {
      "cell_type": "markdown",
      "source": [
        "## MODELO CLASSIFICADOR"
      ],
      "metadata": {
        "id": "-j7Tc5tm0lWM"
      }
    },
    {
      "cell_type": "code",
      "source": [
        "from sklearn.svm import LinearSVC\n",
        "from sklearn.neighbors import KNeighborsClassifier\n",
        "from sklearn.metrics import accuracy_score\n",
        "from sklearn.model_selection import train_test_split\n",
        "\n",
        "modelo = LinearSVC() # cria um modelo\n",
        "modelo.fit(treino_x, treino_y) #treina]\n",
        "\n",
        "# Opção 1\n",
        "previsoes = modelo. predict(teste_x) # teste\n",
        "acuracia = accuracy_score(teste_y, previsoes) * 100 # compara vetores\n",
        "\n",
        "# Opção 2\n",
        "acuracia_model_score = modelo.score(teste_x,teste_y) * 100 # roda teste\n",
        "\n",
        "print(\"A acurácia foi %.2f%%\" % acuracia)\n",
        "print(\"A acurácia foi %.2f%%\" % acuracia_model_score)"
      ],
      "metadata": {
        "colab": {
          "base_uri": "https://localhost:8080/"
        },
        "id": "SkSWFb390hg0",
        "outputId": "19067832-6803-4992-e980-eaf61887090e"
      },
      "execution_count": 49,
      "outputs": [
        {
          "output_type": "stream",
          "name": "stdout",
          "text": [
            "A acurácia foi 33.33%\n",
            "A acurácia foi 33.33%\n"
          ]
        },
        {
          "output_type": "stream",
          "name": "stderr",
          "text": [
            "/usr/local/lib/python3.10/dist-packages/sklearn/svm/_base.py:1244: ConvergenceWarning: Liblinear failed to converge, increase the number of iterations.\n",
            "  warnings.warn(\n"
          ]
        }
      ]
    },
    {
      "cell_type": "markdown",
      "source": [
        "## ACURÁCIA DUMMY"
      ],
      "metadata": {
        "id": "3lF7iD1e0sr0"
      }
    },
    {
      "cell_type": "code",
      "source": [
        "from sklearn.dummy import DummyClassifier\n",
        "\n",
        "dummy_stratified = DummyClassifier()      # Criar modelo\n",
        "dummy_stratified.fit(treino_x, treino_y)  # Treina modelo\n",
        "acuracia = dummy_stratified.score(teste_x, teste_y) * 100 # teste modelo (acurácia)\n",
        "print(\"A acurácia do dummy stratified foi %.2f%%\" % acuracia) #imprime acuracia"
      ],
      "metadata": {
        "colab": {
          "base_uri": "https://localhost:8080/"
        },
        "id": "mUM7_QWo0qIj",
        "outputId": "aeba27ef-a867-49bf-d377-1b03a5a9207f"
      },
      "execution_count": 50,
      "outputs": [
        {
          "output_type": "stream",
          "name": "stdout",
          "text": [
            "A acurácia do dummy stratified foi 33.33%\n"
          ]
        }
      ]
    },
    {
      "cell_type": "code",
      "source": [
        "treino_y.value_counts() # classes"
      ],
      "metadata": {
        "colab": {
          "base_uri": "https://localhost:8080/"
        },
        "id": "NWAgfo-V0w2T",
        "outputId": "5583ee6e-d536-4f03-a410-13bc162419df"
      },
      "execution_count": 51,
      "outputs": [
        {
          "output_type": "execute_result",
          "data": {
            "text/plain": [
              "inacabado\n",
              "1    4\n",
              "0    3\n",
              "Name: count, dtype: int64"
            ]
          },
          "metadata": {},
          "execution_count": 51
        }
      ]
    },
    {
      "cell_type": "code",
      "source": [
        "teste_y.value_counts() # classes"
      ],
      "metadata": {
        "colab": {
          "base_uri": "https://localhost:8080/"
        },
        "id": "40nkbphh0y57",
        "outputId": "52372e7c-fb64-44a3-c8e7-22a6528ea1e3"
      },
      "execution_count": 52,
      "outputs": [
        {
          "output_type": "execute_result",
          "data": {
            "text/plain": [
              "inacabado\n",
              "0    2\n",
              "1    1\n",
              "Name: count, dtype: int64"
            ]
          },
          "metadata": {},
          "execution_count": 52
        }
      ]
    },
    {
      "cell_type": "code",
      "source": [
        "# SEPARAR TREINO E TESTE\n",
        "# Seed vai separar sempre o mesmo conjunto de dados para acurácia fixa\n",
        "seed = 20 # pode ser qualquer valor fixo\n",
        "treino_x, teste_x, treino_y, teste_y = train_test_split(x,y, random_state=seed, test_size = 0.25, stratify = y) # dividir as classes proporcionamente conforme o y\n",
        "print(\"Treinamento com %d elementos e testaremos com %d elementos\" % (len(treino_x), len(teste_x)))"
      ],
      "metadata": {
        "colab": {
          "base_uri": "https://localhost:8080/"
        },
        "id": "PvEOGQAw01Az",
        "outputId": "9d1a4f02-2051-4b6c-ab69-c1e356957df0"
      },
      "execution_count": 53,
      "outputs": [
        {
          "output_type": "stream",
          "name": "stdout",
          "text": [
            "Treinamento com 7 elementos e testaremos com 3 elementos\n"
          ]
        }
      ]
    },
    {
      "cell_type": "markdown",
      "source": [
        "## Usando o modelo"
      ],
      "metadata": {
        "id": "rcRM9xho1FeM"
      }
    },
    {
      "cell_type": "code",
      "source": [
        "modelo.predict([[1,1,1]])\n",
        "modelo.predict([[0,0,0]])"
      ],
      "metadata": {
        "colab": {
          "base_uri": "https://localhost:8080/"
        },
        "id": "sKIZ7cTw1DAT",
        "outputId": "11b616eb-27f6-44e0-f569-3301d45b306f"
      },
      "execution_count": 54,
      "outputs": [
        {
          "output_type": "stream",
          "name": "stderr",
          "text": [
            "/usr/local/lib/python3.10/dist-packages/sklearn/base.py:439: UserWarning: X does not have valid feature names, but LinearSVC was fitted with feature names\n",
            "  warnings.warn(\n",
            "/usr/local/lib/python3.10/dist-packages/sklearn/base.py:439: UserWarning: X does not have valid feature names, but LinearSVC was fitted with feature names\n",
            "  warnings.warn(\n"
          ]
        },
        {
          "output_type": "execute_result",
          "data": {
            "text/plain": [
              "array([1])"
            ]
          },
          "metadata": {},
          "execution_count": 54
        }
      ]
    },
    {
      "cell_type": "code",
      "source": [],
      "metadata": {
        "id": "sLT9IjpcBOxD"
      },
      "execution_count": 54,
      "outputs": []
    }
  ]
}